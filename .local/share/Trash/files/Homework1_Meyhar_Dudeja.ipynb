{
 "cells": [
  {
   "cell_type": "markdown",
   "id": "3865621b",
   "metadata": {
    "id": "3865621b"
   },
   "source": [
    "# Homework 1:  Python Review\n",
    "\n",
    "### <p style=\"text-align: right;\"> &#9989; Meyhar Dudeja</p>\n"
   ]
  },
  {
   "cell_type": "markdown",
   "id": "945a21b6",
   "metadata": {
    "id": "945a21b6"
   },
   "source": [
    "## Goals of this assignment\n",
    "\n",
    "The primary goal of this assignment is to revisit Python basic functionality and apply it to physics problems.\n",
    "\n",
    "* Revisit `if` statements, `for` and `while` loops, functions in Python\n",
    "* More practice debugging code\n",
    "* Learn to do some basic Matrix operation    \n",
    "* Create new functions and make plots\n",
    "* Model QCD correlators\n",
    "\n",
    "\n",
    "## Assignment instructions\n",
    "\n",
    "Work with your group to complete this assignment. Upload the assignment to Gradescope and fill out the homework survey to complete this assignment.\n",
    "\n",
    "___\n",
    "### Grading\n",
    "\n",
    "* Part 1: Debugging Other People's Code (20 Points)\n",
    "* Part 2: Matrix Operations (15+5 points)\n",
    "* Part 3: Ball Drop (20 points)\n",
    "* Part 4: Correlators and Effective-Mass Plot (30 points)\n",
    "\n",
    "**Total:** 85 + 5 points"
   ]
  },
  {
   "cell_type": "markdown",
   "id": "2587a4ff",
   "metadata": {
    "id": "2587a4ff"
   },
   "source": [
    "------\n",
    "## 1. Debugging Other People's Code (20 Points)\n",
    "\n",
    "A large part of learning how to code is finding strategies for troubleshooting problems/bugs when they arise.\n",
    "The following exercises will test your ability to identify and solve problems in your code.\n",
    "\n",
    "## An Aside: Turning on Line Numbers\n",
    "The errors that Python will throw at you will usually tell you the ***line number*** where the error occurred. However, Jupyter notebooks don't always show line numbers by default, so it will be useful to turn them on.\n",
    "\n",
    "### To Turn Line Numbers\n",
    "1. Go up to **View** (between *Edit* and *Insert*)\n",
    "2. Click **Toggle Line Numbers**\n",
    "\n",
    "You should now see line numbers on the left side of your cell(s) when you're editing them.\n",
    "\n",
    "## 1.1 Buggy Code 1 (10 Points)\n",
    "\n",
    "**Note:** The first thing you should always do when there is an error is to **look at the line number provided and the specific error.** You can use these two pieces of information to solve bugs *without needing to understand exactly what the code is doing.*\n",
    "\n",
    "\n",
    "### &#9989;&nbsp; 1.1.1 Fixing the Code (5 Points)\n",
    "The code below is supposed to take a list of protein values, add 10 to each value, and make a histogram.\n",
    "\n",
    "**Rewrite the code below so that it achieves the task it is supposed to.**\n"
   ]
  },
  {
   "cell_type": "code",
   "execution_count": 1,
   "id": "95bd4ce271d1ff2f",
   "metadata": {
    "ExecuteTime": {
     "end_time": "2024-01-20T06:49:27.085045Z",
     "start_time": "2024-01-20T06:49:27.049224Z"
    },
    "collapsed": false,
    "jupyter": {
     "outputs_hidden": false
    },
    "tags": []
   },
   "outputs": [
    {
     "ename": "ModuleNotFoundError",
     "evalue": "No module named 'matplotlib'",
     "output_type": "error",
     "traceback": [
      "\u001b[0;31m---------------------------------------------------------------------------\u001b[0m",
      "\u001b[0;31mModuleNotFoundError\u001b[0m                       Traceback (most recent call last)",
      "Cell \u001b[0;32mIn[1], line 1\u001b[0m\n\u001b[0;32m----> 1\u001b[0m \u001b[38;5;28;01mimport\u001b[39;00m \u001b[38;5;21;01mmatplotlib\u001b[39;00m\n",
      "\u001b[0;31mModuleNotFoundError\u001b[0m: No module named 'matplotlib'"
     ]
    }
   ],
   "source": [
    "import matplotlib"
   ]
  },
  {
   "cell_type": "code",
   "execution_count": 1,
   "id": "8f5ee5cd",
   "metadata": {
    "ExecuteTime": {
     "end_time": "2024-01-20T06:49:06.852120Z",
     "start_time": "2024-01-20T06:49:06.723377Z"
    },
    "id": "8f5ee5cd"
   },
   "outputs": [
    {
     "ename": "ModuleNotFoundError",
     "evalue": "No module named 'matplotlib'",
     "output_type": "error",
     "traceback": [
      "\u001b[0;31m---------------------------------------------------------------------------\u001b[0m",
      "\u001b[0;31mModuleNotFoundError\u001b[0m                       Traceback (most recent call last)",
      "Cell \u001b[0;32mIn[1], line 2\u001b[0m\n\u001b[1;32m      1\u001b[0m \u001b[38;5;66;03m# Buggy Code 1\u001b[39;00m\n\u001b[0;32m----> 2\u001b[0m \u001b[38;5;28;01mimport\u001b[39;00m \u001b[38;5;21;01mmatplotlib\u001b[39;00m\u001b[38;5;21;01m.\u001b[39;00m\u001b[38;5;21;01mpyplot\u001b[39;00m \u001b[38;5;28;01mas\u001b[39;00m \u001b[38;5;21;01mplt\u001b[39;00m\n\u001b[1;32m      4\u001b[0m protein \u001b[38;5;241m=\u001b[39m [\u001b[38;5;241m32\u001b[39m,\u001b[38;5;241m12\u001b[39m,\u001b[38;5;241m15\u001b[39m,\u001b[38;5;241m34\u001b[39m,\u001b[38;5;241m32\u001b[39m,\u001b[38;5;241m36\u001b[39m,\u001b[38;5;241m28\u001b[39m,\u001b[38;5;241m29\u001b[39m,\u001b[38;5;241m27\u001b[39m,\u001b[38;5;241m32\u001b[39m,\u001b[38;5;241m6\u001b[39m,\u001b[38;5;241m6\u001b[39m,\u001b[38;5;241m27\u001b[39m,\u001b[38;5;241m8\u001b[39m,\u001b[38;5;241m32\u001b[39m,\u001b[38;5;241m3\u001b[39m,\u001b[38;5;241m33\u001b[39m,\u001b[38;5;241m14\u001b[39m,\u001b[38;5;241m38\u001b[39m]\n\u001b[1;32m      6\u001b[0m \u001b[38;5;28;01mfor\u001b[39;00m jj \u001b[38;5;129;01min\u001b[39;00m \u001b[38;5;28mrange\u001b[39m(\u001b[38;5;28mlen\u001b[39m(protein)):\n",
      "\u001b[0;31mModuleNotFoundError\u001b[0m: No module named 'matplotlib'"
     ]
    }
   ],
   "source": [
    "# Buggy Code 1\n",
    "import matplotlib.pyplot as plt\n",
    "\n",
    "protein = [32,12,15,34,32,36,28,29,27,32,6,6,27,8,32,3,33,14,38]\n",
    "\n",
    "for jj in range(len(protein)):\n",
    "    protein[jj] = protein[jj] + '10'\n",
    "\n",
    "plt.hist(protein)\n",
    "plt.show()\n"
   ]
  },
  {
   "cell_type": "code",
   "execution_count": null,
   "id": "877b5e39",
   "metadata": {
    "id": "877b5e39"
   },
   "outputs": [],
   "source": [
    "# Write your solution here\n"
   ]
  },
  {
   "cell_type": "markdown",
   "id": "eeae1948",
   "metadata": {
    "id": "eeae1948"
   },
   "source": [
    "### &#9989;&nbsp; 1.1.2 Explaining the Problem and the Solution (5 Points)\n",
    "\n",
    "In the space below, explain the problem and your solution. You should include the following information:\n",
    "1. The line of code that caused the error(s)\n",
    "1. (Where appropriate) The error message\n",
    "1. A plain English description of the error(s) in the code\n",
    "1. How you solved the error(s)"
   ]
  },
  {
   "cell_type": "markdown",
   "id": "eeb0271c",
   "metadata": {
    "id": "eeb0271c"
   },
   "source": [
    "*Explain the problem and solution here*"
   ]
  },
  {
   "cell_type": "markdown",
   "id": "033ba0c4",
   "metadata": {
    "id": "033ba0c4"
   },
   "source": [
    "## 1.2 Buggy Code 2 (10 Points)\n",
    "\n",
    "**Note** Sometimes the code that you get won't throw an error. *That does not mean it is running correctly.* **You should always check to make sure that your code is running correctly.**\n",
    "\n",
    "### &#9989;&nbsp; 1.2.1 Fixing the Code (5 Points)\n",
    "The code below has a list of calories from different foods and is supposed to multiply each value by two and sum them together.\n",
    "So, for instance, if we had a list `[120, 65, 220]`, then the code should return $(120\\times 2) + (65\\times 2) + (220\\times 2) = 810$.\n",
    "\n",
    "**Rewrite the code below so that it achieves the task it is supposed to.**"
   ]
  },
  {
   "cell_type": "code",
   "execution_count": null,
   "id": "6b70896d",
   "metadata": {
    "id": "6b70896d"
   },
   "outputs": [],
   "source": [
    "#Buggy code 2\n",
    "\n",
    "calories = [270,75,375,475,235,345,340,190]\n",
    "\n",
    "for ii in range(len(calories)):\n",
    "    sum_of_cals = 2.0*calories[ii]\n",
    "\n",
    "print(sum_of_cals)"
   ]
  },
  {
   "cell_type": "code",
   "execution_count": null,
   "id": "814564f0",
   "metadata": {
    "id": "814564f0"
   },
   "outputs": [],
   "source": [
    "# Write your solution here"
   ]
  },
  {
   "cell_type": "markdown",
   "id": "a7a89e6b",
   "metadata": {
    "id": "a7a89e6b"
   },
   "source": [
    "### &#9989;&nbsp; 1.2.2 Explaining the Problem and the Solution (5 Points)\n",
    "\n",
    "In the space below, explain the problem and your solution. You should include the following information:\n",
    "1. The line of code that caused the error(s)\n",
    "1. (Where appropriate) The error message\n",
    "1. A plain English description of the error(s) in the code\n",
    "1. How you solved the error(s)"
   ]
  },
  {
   "cell_type": "markdown",
   "id": "37c4ef3e",
   "metadata": {
    "id": "37c4ef3e"
   },
   "source": [
    "*Explain the problem and solution here*"
   ]
  },
  {
   "cell_type": "markdown",
   "id": "58c352bb",
   "metadata": {
    "id": "58c352bb"
   },
   "source": [
    "----\n",
    "## Part 2: Matrix Operations (15+5 points)\n",
    "In physics, we use matrix operations a lot. In this exercise, let's practice writing a few functions that do basic matrix operations using `for` or `while` loops.\n",
    "\n",
    "### 2.1 Matrix Addition (5 points)\n",
    "Create a new cell below and write a function that takes two $M \\times N$ matrices and returns their sum.\n",
    "Write a test code to check the function is working correctly. Make sure to check that your function works when $M \\neq N$.\n"
   ]
  },
  {
   "cell_type": "code",
   "execution_count": null,
   "id": "44f151cd",
   "metadata": {
    "id": "44f151cd"
   },
   "outputs": [],
   "source": [
    "# your code here"
   ]
  },
  {
   "cell_type": "markdown",
   "id": "590058b2",
   "metadata": {
    "id": "590058b2"
   },
   "source": [
    "\n",
    "### 2.2 Matrix Transpose (5 points)\n",
    "Create a new cell below and write a function that takes one $M \\times N$ matrix and returns the transpose of the input matrix.\n",
    "Write a test code to check the function is working correctly.  Make sure to check $M \\neq N$.\n"
   ]
  },
  {
   "cell_type": "code",
   "execution_count": null,
   "id": "f3d4154d",
   "metadata": {
    "id": "f3d4154d"
   },
   "outputs": [],
   "source": [
    "# your code here"
   ]
  },
  {
   "cell_type": "markdown",
   "id": "237068e2",
   "metadata": {
    "id": "237068e2"
   },
   "source": [
    "\n",
    "### 2.3 Matrix Multiplication (special case) (5 points)\n",
    "Create a new cell below and write a function that takes one $M \\times N$ matrix and returns the matrix product of that matrix by its transpose matrix $MM^T$.\n",
    "Write a test code to check the function is working correctly. Make sure to check $M \\neq N$.\n"
   ]
  },
  {
   "cell_type": "code",
   "execution_count": null,
   "id": "485c7424",
   "metadata": {
    "id": "485c7424"
   },
   "outputs": [],
   "source": [
    "# your code here"
   ]
  },
  {
   "cell_type": "markdown",
   "id": "70893b2c",
   "metadata": {
    "id": "70893b2c"
   },
   "source": [
    "\n",
    "### 2.4 Matrix Determinant (5 points) [optional]\n",
    "Create a new cell below and write a function that takes one $N \\times N$ matrix and calculates its determinant.\n",
    "Write a test code to check the function is working correctly.\n",
    "\n",
    "*Hint: This is easiest done using recursion; that is, when you have a function that calls itself. When the recursive function is called with a sufficiently simple case (e.g. $1 \\times 1$), it directly returns an answer.*"
   ]
  },
  {
   "cell_type": "code",
   "execution_count": null,
   "id": "84bb63c9",
   "metadata": {
    "id": "84bb63c9"
   },
   "outputs": [],
   "source": [
    "# your code here"
   ]
  },
  {
   "cell_type": "markdown",
   "id": "19f51dca",
   "metadata": {
    "id": "19f51dca"
   },
   "source": [
    "----\n",
    "## Part 3: Ball Drop (20 points)\n",
    "\n",
    "A ball is dropped from a tower of height $h$ with initial velocity zero.  \n",
    "\n",
    "### 3.1 Write a function (5 points)\n",
    "Write a function that takes the height in meters of the tower.\n",
    "The function calculates and prints the time the ball takes until it hits the ground.\n",
    "Ignore air resistance in this problem.\n",
    "\n",
    "Compare your results with other students in your group. Are they in agreement? if not, who is right? and why?"
   ]
  },
  {
   "cell_type": "code",
   "execution_count": null,
   "id": "9275614a",
   "metadata": {
    "id": "9275614a"
   },
   "outputs": [],
   "source": [
    "# your code here"
   ]
  },
  {
   "cell_type": "markdown",
   "id": "ee624b0a",
   "metadata": {
    "id": "ee624b0a"
   },
   "source": [
    "### 3.2 Use the function (5 points)\n",
    "Use your function to calculate the time for a ball dropped from a 100-m high tower."
   ]
  },
  {
   "cell_type": "code",
   "execution_count": null,
   "id": "92106143",
   "metadata": {
    "id": "92106143"
   },
   "outputs": [],
   "source": [
    "# your code here"
   ]
  },
  {
   "cell_type": "markdown",
   "id": "d28247e7",
   "metadata": {
    "id": "d28247e7"
   },
   "source": [
    "### 3.3 Check the function is correct (5 points)\n",
    "Write down what you can do to check your function is correct. Put your ideas and any code in a Markdown cell below."
   ]
  },
  {
   "cell_type": "code",
   "execution_count": null,
   "id": "272a448b",
   "metadata": {
    "id": "272a448b"
   },
   "outputs": [],
   "source": [
    "# your code here"
   ]
  },
  {
   "cell_type": "markdown",
   "id": "7a4db343",
   "metadata": {
    "id": "7a4db343"
   },
   "source": [
    "### 3.4 Plot the results (5 points)\n",
    "Plot the height of the ball (in meters) as a function of time (in seconds)."
   ]
  },
  {
   "cell_type": "code",
   "execution_count": null,
   "id": "14c43601",
   "metadata": {
    "id": "14c43601"
   },
   "outputs": [],
   "source": [
    "# your code here"
   ]
  },
  {
   "cell_type": "markdown",
   "id": "30f54cbe",
   "metadata": {
    "id": "30f54cbe"
   },
   "source": [
    "----\n",
    "## Part 4: Correlators and Effective-Mass Plot 30 points)\n",
    "\n",
    "In the Standard Model of particle physics, quantum chromodynamics (QCD), describes how gluons strongly interact with themselves and with quarks, forming (among other things) the pions. Using a sufficiently large supercomputer, we can use lattice QCD to simulate a tiny volume of spacetime containing a pion and study its properties. One output of such a simulation are *correlators* $C(t)$.\n",
    "In this assignment, we are going to use the simple model to describe what pion data may look like coming out of supercomputer.\n",
    "\n",
    "\n",
    "### 4.1 Create a function describing the correlator  (5 points)\n",
    "$$C_\\text{pion}(t) = A_0\\exp(-M_0 t) + A_1 \\exp (-M_1 t)$$\n",
    "Write a function called `C_pion` that takes a list of Euclidean times `tlist` and 4 constants, $A_{0,1}$ and $M_{0,1}$. It should return the list of values given by the equation above."
   ]
  },
  {
   "cell_type": "code",
   "execution_count": null,
   "id": "c1cfdf46",
   "metadata": {
    "id": "c1cfdf46"
   },
   "outputs": [],
   "source": [
    "# your code here"
   ]
  },
  {
   "cell_type": "markdown",
   "id": "25c23909",
   "metadata": {
    "id": "25c23909"
   },
   "source": [
    "### 4.2 Evaluate the function  (5 points)\n",
    "Use Euclidean times (integers only) in the range $[0,16]$ with the following parameters: $A_0 = 0.03$, $A_1 = 0.002$, $M_0 = 0.14$, $M_1 = 0.9$.\n",
    "    "
   ]
  },
  {
   "cell_type": "code",
   "execution_count": null,
   "id": "58c3e878",
   "metadata": {
    "id": "58c3e878"
   },
   "outputs": [],
   "source": [
    "# your code here"
   ]
  },
  {
   "cell_type": "markdown",
   "id": "3e234dc3",
   "metadata": {
    "id": "3e234dc3"
   },
   "source": [
    "### 4.3 Plot the function (3 points)\n",
    "Plot $C_\\text{pion}(t)$ a function of time, label appropriately, including the axes."
   ]
  },
  {
   "cell_type": "code",
   "execution_count": null,
   "id": "84fa6997",
   "metadata": {
    "id": "84fa6997"
   },
   "outputs": [],
   "source": [
    "# your code here"
   ]
  },
  {
   "cell_type": "markdown",
   "id": "3ca01e1a",
   "metadata": {
    "id": "3ca01e1a"
   },
   "source": [
    "### 4.4 Plot on a log scale (2 points)\n",
    "Show the same plot but using a `log` scale for the vertical axis."
   ]
  },
  {
   "cell_type": "code",
   "execution_count": null,
   "id": "6027ae4a",
   "metadata": {
    "id": "6027ae4a"
   },
   "outputs": [],
   "source": [
    "# your code here"
   ]
  },
  {
   "cell_type": "markdown",
   "id": "765fa1ef",
   "metadata": {
    "id": "765fa1ef"
   },
   "source": [
    "### 4.5 Calculate effective masses (5 points)\n",
    "Write another function to calculate the mass of the particle in the correlator.\n",
    "An easy way to extract the mass is to use the *effective mass*:\n",
    "$$M_\\text{eff}(t) = \\ln \\frac{C(t)}{C(t+1)}$$"
   ]
  },
  {
   "cell_type": "code",
   "execution_count": null,
   "id": "50bafd3b",
   "metadata": {
    "id": "50bafd3b"
   },
   "outputs": [],
   "source": [
    "# your code here"
   ]
  },
  {
   "cell_type": "markdown",
   "id": "f0ba33ea",
   "metadata": {
    "id": "f0ba33ea"
   },
   "source": [
    "### 4.6 Plot the effective masses (5 points)\n",
    "Plot $M_\\text{eff}(t)$ as a function of time, label the plot appropriately, including the axes."
   ]
  },
  {
   "cell_type": "code",
   "execution_count": null,
   "id": "81eea434",
   "metadata": {
    "id": "81eea434"
   },
   "outputs": [],
   "source": [
    "# your code here"
   ]
  },
  {
   "cell_type": "markdown",
   "id": "080b5a17",
   "metadata": {
    "id": "080b5a17"
   },
   "source": [
    "---\n",
    "## Assignment Wrap-up\n",
    "\n",
    "Save all the code and outputs in this notebook .ipynb format, and upload  the saved homework notebook to GradeScope for grading.\n"
   ]
  },
  {
   "cell_type": "markdown",
   "id": "43a52907",
   "metadata": {
    "id": "43a52907"
   },
   "source": [
    "---\n",
    "\n",
    "### Congratulations, you're done!\n"
   ]
  }
 ],
 "metadata": {
  "colab": {
   "provenance": []
  },
  "kernelspec": {
   "display_name": "Python 3 (ipykernel)",
   "language": "python",
   "name": "python3"
  },
  "language_info": {
   "codemirror_mode": {
    "name": "ipython",
    "version": 3
   },
   "file_extension": ".py",
   "mimetype": "text/x-python",
   "name": "python",
   "nbconvert_exporter": "python",
   "pygments_lexer": "ipython3",
   "version": "3.10.12"
  }
 },
 "nbformat": 4,
 "nbformat_minor": 5
}
